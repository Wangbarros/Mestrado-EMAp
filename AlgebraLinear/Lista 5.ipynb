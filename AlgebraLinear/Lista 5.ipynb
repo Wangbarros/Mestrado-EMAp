{
 "cells": [
  {
   "cell_type": "code",
   "execution_count": 2,
   "metadata": {
    "collapsed": true
   },
   "outputs": [],
   "source": [
    "import numpy as np\n",
    "import pprint\n",
    "import scipy.linalg"
   ]
  },
  {
   "cell_type": "code",
   "execution_count": 150,
   "metadata": {
    "collapsed": false
   },
   "outputs": [
    {
     "name": "stdout",
     "output_type": "stream",
     "text": [
      "[[ 15.   0.]\n",
      " [  0.  -5.]]\n",
      "[[-0.4  0.2]\n",
      " [ 0.2  0.4]]\n"
     ]
    }
   ],
   "source": [
    "A = np.matrix([[11,-8],[-8,-1]])\n",
    "\n",
    "S = np.matrix([[-2,1],[1,2]])\n",
    "\n",
    "print(np.linalg.inv(S)*A*S)\n",
    "\n",
    "print(np.linalg.inv(S))"
   ]
  },
  {
   "cell_type": "markdown",
   "metadata": {},
   "source": [
    "# Exercicio computacional 1"
   ]
  },
  {
   "cell_type": "code",
   "execution_count": 18,
   "metadata": {
    "collapsed": false
   },
   "outputs": [
    {
     "name": "stdout",
     "output_type": "stream",
     "text": [
      "[[0 0 1]\n",
      " [1 0 1]\n",
      " [0 1 1]\n",
      " [1 1 1]\n",
      " [3 2 1]]\n",
      "[[0]\n",
      " [3]\n",
      " [2]\n",
      " [4]\n",
      " [6]]\n",
      "[[ 0.35897436 -0.38461538 -0.05128205]\n",
      " [-0.38461538  0.76923077 -0.23076923]\n",
      " [-0.05128205 -0.23076923  0.43589744]]\n",
      "[[ 1.28205128]\n",
      " [ 0.76923077]\n",
      " [ 1.1025641 ]]\n"
     ]
    }
   ],
   "source": [
    "A = np.matrix([[0,0,1],[1,0,1],[0,1,1],[1,1,1],[3,2,1]])\n",
    "\n",
    "print(A)\n",
    "\n",
    "b = np.matrix([[0],[3],[2],[4],[6]])\n",
    "\n",
    "print(b)\n",
    "\n",
    "pseudo_inversa = np.linalg.inv(np.transpose(A)*A)\n",
    "\n",
    "print (pseudo_inversa)\n",
    "\n",
    "x = pseudo_inversa*np.transpose(A)*b\n",
    "\n",
    "print(x)\n",
    "\n"
   ]
  },
  {
   "cell_type": "markdown",
   "metadata": {},
   "source": [
    "# Exercicio computacional 2"
   ]
  },
  {
   "cell_type": "code",
   "execution_count": 13,
   "metadata": {
    "collapsed": false
   },
   "outputs": [
    {
     "name": "stdout",
     "output_type": "stream",
     "text": [
      "[[ 0.66666667  0.33333333]\n",
      " [ 0.25        0.75      ]]\n",
      "Autovetores: \n",
      " [[-0.8        -0.70710678]\n",
      " [ 0.6        -0.70710678]]\n",
      "Autovalores: \n",
      " [[ 0.41666667  0.        ]\n",
      " [ 0.          1.        ]]\n",
      "A convergencia da negociação ocorrerá para: \n",
      " [[ 0.42857143  0.57142857]\n",
      " [ 0.42857143  0.57142857]]\n",
      "[[ 0.66666667  0.25      ]\n",
      " [ 0.33333333  0.75      ]]\n",
      "[[ 0.41666667  0.        ]\n",
      " [ 0.          1.        ]]\n"
     ]
    }
   ],
   "source": [
    "identidade = [[1,0],[0,1]]\n",
    "\n",
    "A = np.matrix([[2.0/3, 1.0/3],[1.0/4,3.0/4]])\n",
    "\n",
    "print(A)\n",
    "\n",
    "autovalores, autovetores = (np.linalg.eig(A))\n",
    "\n",
    "print(\"Autovetores: \\n\", autovetores)\n",
    "\n",
    "D = autovalores*identidade\n",
    "\n",
    "print(\"Autovalores: \\n\",D)\n",
    "\n",
    "\n",
    "\n",
    "print(\"A convergencia da negociação ocorrerá para: \\n\", \n",
    "       (np.linalg.inv(autovetores.transpose())*(D**1000)*autovetores.transpose()).transpose())\n",
    "\n",
    "#print(np.linalg.inv(autovetores.transpose())*D*(autovetores.transpose()))\n",
    "\n",
    "#print((np.linalg.inv(autovetores)*(A)*autovetores))"
   ]
  },
  {
   "cell_type": "markdown",
   "metadata": {},
   "source": [
    "# Exercicio computacional 3"
   ]
  },
  {
   "cell_type": "markdown",
   "metadata": {},
   "source": [
    "a) Dada uma matriz M estocastica qualquer, a soma das colunas é igual a 1. 1 sempre é um autovalor dela. Prova:\n",
    " \n",
    "Fazemos primeiro A = (M - I*1)\n",
    "\n",
    "Nessa A, somamos todas as linhas na primeira linha, o que resulta em uma primera linha = 0 (já que a soma de todas as colunas é 1 e adicionamos -1 do autovalor em todas elas). Essa operação não altera o det(A).\n",
    "\n",
    "Como a primeira linha é = 0, temos que det(A) = 0. Logo, 1 é autovalor"
   ]
  },
  {
   "cell_type": "code",
   "execution_count": 57,
   "metadata": {
    "collapsed": false
   },
   "outputs": [
    {
     "name": "stdout",
     "output_type": "stream",
     "text": [
      "A resposta do item b) é: \n",
      " [[ 0.2 ]\n",
      " [ 0.33]\n",
      " [ 0.47]]\n",
      "Autovalores: \n",
      " [ 1.   0.4  0.1]\n",
      "Autovetores: \n",
      " [[ -4.76731295e-01  -7.07106781e-01   5.34522484e-01]\n",
      " [ -5.72077554e-01   1.78763616e-16  -8.01783726e-01]\n",
      " [ -6.67423812e-01   7.07106781e-01   2.67261242e-01]]\n",
      "O valor de estabilidade da matrix estocastica será o autovetor correspondente ao autovalor 1, ou seja: \n",
      " [[-0.47673129]\n",
      " [-0.57207755]\n",
      " [-0.66742381]]\n",
      "Podemos checar se é verdade multiplicando ela pela M e temos: \n",
      " [[-0.47673129]\n",
      " [-0.57207755]\n",
      " [-0.66742381]]\n"
     ]
    }
   ],
   "source": [
    "M = np.matrix([[0.5, 0.3, 0.1],\n",
    "               [0.3, 0.4, 0.3], \n",
    "               [0.2, 0.3, 0.6]]) \n",
    "\n",
    "estado_inicial = np.matrix([[0],[0],[1]])\n",
    "\n",
    "k2 = M*M*estado_inicial\n",
    "\n",
    "print(\"A resposta do item b) é: \\n\", k2)\n",
    "\n",
    "autovalores, autovetores = np.linalg.eig(M)\n",
    "\n",
    "print(\"Autovalores: \\n\", autovalores)\n",
    "\n",
    "print(\"Autovetores: \\n\", autovetores)\n",
    "\n",
    "print(\"O valor de estabilidade da matrix estocastica será o autovetor correspondente ao autovalor 1, ou seja: \\n\",\n",
    "     autovetores.transpose()[0].transpose())\n",
    "\n",
    "\n",
    "print(\"Podemos checar se é verdade multiplicando ela pela M e temos: \\n\", M*autovetores.transpose()[0].transpose())\n",
    "\n",
    "\n",
    "\n",
    "#print(autovetores[0][0]+autovetores[1][0]+autovetores[2][0])"
   ]
  },
  {
   "cell_type": "markdown",
   "metadata": {},
   "source": [
    "# Exercicio computacional 4"
   ]
  },
  {
   "cell_type": "code",
   "execution_count": 145,
   "metadata": {
    "collapsed": false
   },
   "outputs": [
    {
     "name": "stdout",
     "output_type": "stream",
     "text": [
      "A Matriz é: \n",
      " [[ 2.          0.          0.66666667  0.          0.4         0.        ]\n",
      " [ 0.          0.66666667  0.          0.4         0.          0.28571429]\n",
      " [ 0.66666667  0.          0.4         0.          0.28571429  0.        ]\n",
      " [ 0.          0.4         0.          0.28571429  0.          0.22222222]\n",
      " [ 0.4         0.          0.28571429  0.          0.22222222  0.        ]\n",
      " [ 0.          0.28571429  0.          0.22222222  0.          0.18181818]]\n",
      "Autovetores: \n",
      " [[  9.13034434e-01   1.95653914e-17   3.44611116e-01   4.23457206e-18\n",
      "    2.18200140e-01   3.16528898e-18]\n",
      " [  4.01386061e-01  -5.32095031e-17  -6.64019450e-01   1.38247269e-16\n",
      "   -6.30846574e-01   1.03338341e-16]\n",
      " [  7.25076050e-02   5.19602498e-16  -6.63567139e-01  -5.11673774e-16\n",
      "    7.44594721e-01  -3.82466064e-16]\n",
      " [ -1.03916076e-16   7.75962049e-01   2.58608435e-16   5.05232317e-01\n",
      "   -1.92906554e-16   3.77654875e-01]\n",
      " [ -6.74560301e-17   6.07869167e-01   6.83508407e-16  -4.39050919e-01\n",
      "   -8.48794977e-16  -6.61611190e-01]\n",
      " [  6.07723195e-16   1.68457635e-01  -5.62498604e-15  -7.42949929e-01\n",
      "    6.33936014e-15   6.47801998e-01]]\n",
      "Autovalores: \n",
      " [[  2.34721670e+00   0.00000000e+00   0.00000000e+00   0.00000000e+00\n",
      "    0.00000000e+00   0.00000000e+00]\n",
      " [  0.00000000e+00   2.68454412e-01   0.00000000e+00   0.00000000e+00\n",
      "    0.00000000e+00   0.00000000e+00]\n",
      " [  0.00000000e+00   0.00000000e+00   6.55111327e-03   0.00000000e+00\n",
      "    0.00000000e+00   0.00000000e+00]\n",
      " [  0.00000000e+00   0.00000000e+00   0.00000000e+00   1.06616342e+00\n",
      "    0.00000000e+00   0.00000000e+00]\n",
      " [  0.00000000e+00   0.00000000e+00   0.00000000e+00   0.00000000e+00\n",
      "    6.67807773e-02   0.00000000e+00]\n",
      " [  0.00000000e+00   0.00000000e+00   0.00000000e+00   0.00000000e+00\n",
      "    0.00000000e+00   1.25493611e-03]]\n",
      "U: \n",
      " [[  5.95951015e-01   3.77618503e-17   4.25766736e+00   4.10107431e-18\n",
      "    8.44363187e-01   8.93516459e-17]\n",
      " [  2.61990590e-01  -1.02696095e-16  -8.20395456e+00   1.33888930e-16\n",
      "   -2.44116994e+00   2.91709568e-15]\n",
      " [  4.73267811e-02   1.00284995e-15  -8.19836627e+00  -4.95542912e-16\n",
      "    2.88133808e+00  -1.07964779e-14]\n",
      " [ -6.78275521e-17   1.49763233e+00   3.19510498e-15   4.89304527e-01\n",
      "   -7.46485282e-16   1.06606648e+01]\n",
      " [ -4.40295438e-17   1.17320753e+00   8.44474045e-15  -4.25209541e-01\n",
      "   -3.28455899e-15  -1.86763513e+01]\n",
      " [  3.96669875e-16   3.25128789e-01  -6.94966538e-14  -7.19527929e-01\n",
      "    2.45312507e-14   1.82865372e+01]]\n",
      "Q: \n",
      " [[-0.93205465  0.          0.35645014  0.          0.06494176  0.        ]\n",
      " [-0.         -0.80486359  0.          0.57223511  0.          0.15729459]\n",
      " [-0.31068488 -0.         -0.69406894  0.         -0.64941759  0.        ]\n",
      " [-0.         -0.48291815  0.         -0.47746545  0.         -0.73404142]\n",
      " [-0.18641093 -0.         -0.62546911  0.          0.75765385  0.        ]\n",
      " [-0.         -0.34494154 -0.         -0.66676362 -0.          0.66063728]]\n",
      "R: \n",
      " [[ -2.14579693e+00   0.00000000e+00  -7.98903985e-01   0.00000000e+00\n",
      "   -5.03013620e-01   0.00000000e+00]\n",
      " [  0.00000000e+00  -8.28297711e-01   0.00000000e+00  -5.36575725e-01\n",
      "    0.00000000e+00  -3.99992813e-01]\n",
      " [  0.00000000e+00   0.00000000e+00  -2.18699612e-01   0.00000000e+00\n",
      "   -1.94718493e-01   0.00000000e+00]\n",
      " [  0.00000000e+00   0.00000000e+00   0.00000000e+00  -5.56943505e-02\n",
      "    0.00000000e+00  -6.38374376e-02]\n",
      " [  0.00000000e+00   0.00000000e+00   0.00000000e+00   0.00000000e+00\n",
      "    8.79634407e-03   0.00000000e+00]\n",
      " [  0.00000000e+00   0.00000000e+00   0.00000000e+00   0.00000000e+00\n",
      "    0.00000000e+00   1.93686459e-03]]\n"
     ]
    }
   ],
   "source": [
    "A = np.matrix([[2,0,2/3,0,2/5,0],\n",
    "               [0,2/3,0,2/5,0,2/7],\n",
    "               [2/3,0,2/5,0,2/7,0],\n",
    "               [0,2/5,0,2/7,0,2/9],\n",
    "               [2/5,0,2/7,0,2/9,0],\n",
    "               [0,2/7,0,2/9,0,2/11]])\n",
    "\n",
    "print(\"A Matriz é: \\n\", A)\n",
    "\n",
    "autovalores, V = (np.linalg.eig(A))\n",
    "\n",
    "V = V.transpose()\n",
    "\n",
    "print(\"Autovetores: \\n\", V)\n",
    "\n",
    "D = autovalores*np.identity(6)\n",
    "\n",
    "print(\"Autovalores: \\n\",D)\n",
    "\n",
    "U = V*(np.linalg.inv(scipy.linalg.sqrtm(D)))\n",
    "\n",
    "print(\"U: \\n\", U)\n",
    "\n",
    "Q, R = np.linalg.qr(A)\n",
    "\n",
    "#print(A - np.linalg.inv(V)*D*V)\n",
    "\n",
    "print(\"Q: \\n\", Q)\n",
    "print(\"R: \\n\", R)\n"
   ]
  }
 ],
 "metadata": {
  "anaconda-cloud": {},
  "kernelspec": {
   "display_name": "Python [conda root]",
   "language": "python",
   "name": "conda-root-py"
  },
  "language_info": {
   "codemirror_mode": {
    "name": "ipython",
    "version": 3
   },
   "file_extension": ".py",
   "mimetype": "text/x-python",
   "name": "python",
   "nbconvert_exporter": "python",
   "pygments_lexer": "ipython3",
   "version": "3.5.2"
  }
 },
 "nbformat": 4,
 "nbformat_minor": 1
}
